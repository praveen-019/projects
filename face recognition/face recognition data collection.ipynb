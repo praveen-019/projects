{
 "cells": [
  {
   "cell_type": "code",
   "execution_count": 1,
   "id": "913ea1d0-07af-4c3d-83a2-cc05c8322cdf",
   "metadata": {},
   "outputs": [],
   "source": [
    "# write a python script that captures images from your webcam video stream\n",
    "# extracts all faces from the image frame using haarcascades\n",
    "# stores the face imformation into numpy arrays"
   ]
  },
  {
   "cell_type": "code",
   "execution_count": 2,
   "id": "b39c4c6d-6945-4172-bbfe-6e7499972d66",
   "metadata": {},
   "outputs": [],
   "source": [
    "# 1. read and show video stream, capture images"
   ]
  },
  {
   "cell_type": "code",
   "execution_count": 3,
   "id": "e052d8b9-e864-42f2-b958-76dc59bc2ecb",
   "metadata": {},
   "outputs": [],
   "source": [
    "import cv2\n",
    "import numpy as np"
   ]
  },
  {
   "cell_type": "code",
   "execution_count": 4,
   "id": "a013e7c4-1eca-4665-a57b-9a24a3bf9c2b",
   "metadata": {},
   "outputs": [],
   "source": [
    "# init camera\n",
    "cap = cv2.VideoCapture(0)"
   ]
  },
  {
   "cell_type": "code",
   "execution_count": 5,
   "id": "2231af56-2e96-42db-926d-6b27271ed3a3",
   "metadata": {},
   "outputs": [],
   "source": [
    "while True:\n",
    "    ret,frame = cap.read()\n",
    "    \n",
    "    if ret == False:\n",
    "        continue\n",
    "        \n",
    "    cv2.imshow(\"Frame\",frame)\n",
    "    \n",
    "    key_pressed = cv2.waitKey(1) & 0xFF\n",
    "    if key_pressed == ord('q'):\n",
    "        break\n",
    "\n",
    "cap.release()\n",
    "cv2.destroyAllWindows()"
   ]
  },
  {
   "cell_type": "code",
   "execution_count": 6,
   "id": "7c6c508f-221e-4943-864a-2a62beefda22",
   "metadata": {},
   "outputs": [],
   "source": [
    "# 2. detect faces and show bounding box using haarcascade"
   ]
  },
  {
   "cell_type": "code",
   "execution_count": 7,
   "id": "84c35471-ce23-45eb-bc18-cb065a78726e",
   "metadata": {},
   "outputs": [],
   "source": [
    "# face detection\n",
    "face_cascade = cv2.CascadeClassifier(\"haarcascade_frontalface_alt.xml\")"
   ]
  },
  {
   "cell_type": "code",
   "execution_count": null,
   "id": "d299d8cb-417d-4647-aba1-eb563d8e1ae7",
   "metadata": {},
   "outputs": [],
   "source": [
    "while True:\n",
    "    ret,frame = cap.read()\n",
    "    \n",
    "    if ret == False:\n",
    "        continue\n",
    "    \n",
    "    faces = face_cascade.detectMultiScale(frame,1.3,5)\n",
    "    print(faces)\n",
    "    \n",
    "    for face in faces:\n",
    "        x,y,w,h = face\n",
    "        cv2.rectangle(frame,(x,y),(x+w,y+h),(0,255,255),2)\n",
    "    \n",
    "    cv2.imshow(\"Frame\",frame)\n",
    "    \n",
    "    key_pressed = cv2.waitKey(1) & 0xFF\n",
    "    if key_pressed == 13:\n",
    "        break\n",
    "        \n",
    "cap.release()\n",
    "cv2.destroyAllWindows()"
   ]
  },
  {
   "cell_type": "code",
   "execution_count": null,
   "id": "e3e41de0-0d24-44b3-93e9-d8e6093aedb5",
   "metadata": {},
   "outputs": [],
   "source": [
    "# 3. extract the largest face from each frame and display it for every 10 frames"
   ]
  },
  {
   "cell_type": "code",
   "execution_count": null,
   "id": "3073a83b-fa83-4560-a21c-e5be25ab0461",
   "metadata": {},
   "outputs": [],
   "source": [
    "skip = 0\n",
    "\n",
    "while True:\n",
    "    ret,frame = cap.read()\n",
    "    \n",
    "    if ret == False:\n",
    "        continue\n",
    "        \n",
    "    gray_frame = cv2.cvtColor(frame,cv2.COLOR_BGR2GRAY)\n",
    "    \n",
    "    faces = face_cascade.detectMultiScale(frame,1.3,5)\n",
    "    faces = sorted(faces,key=lambda f:f[2]*f[3])\n",
    "    \n",
    "    for face in faces[-1:]:\n",
    "        x,y,w,h = face\n",
    "        cv2.rectangle(frame,(x,y),(x+w,y+h),(0,255,255),2)\n",
    "        \n",
    "        #extract or crop out the required face : region of interest\n",
    "        offset = 10\n",
    "        face_section = frame[y-offset:y+h+offset,x-offset:x+h+offset]\n",
    "        face_section = cv2.resize(face_section,(100,100))\n",
    "        \n",
    "        skip += 1\n",
    "        if skip%10 == 0:\n",
    "            face_data.append(face_section)\n",
    "            print(len(face_data))\n",
    "        \n",
    "    cv2.imshow(\"Frame\",frame)\n",
    "    cv2.imshow(\"Face Section\",face_section)\n",
    "    \n",
    "    key_pressed = cv2.waitKey(1) & 0xFF\n",
    "    if key_pressed == 13:\n",
    "        break\n",
    "        \n",
    "cap.release()\n",
    "cv2.destroyAllWindows()"
   ]
  },
  {
   "cell_type": "code",
   "execution_count": null,
   "id": "7ecb3c2e-babe-44ac-bf74-247adcaeab76",
   "metadata": {},
   "outputs": [],
   "source": [
    "# 4. flatten the largest face image and save in a numpy array"
   ]
  },
  {
   "cell_type": "code",
   "execution_count": null,
   "id": "08654e88-2fa5-4ab8-b0f1-a140b8d7e35d",
   "metadata": {},
   "outputs": [],
   "source": [
    "skip = 0\n",
    "face_data = []\n",
    "dataset_path = './data/'\n",
    "file_name = input(\"Enter the name of the person : \")\n",
    "\n",
    "while True:\n",
    "    ret,frame = cap.read()\n",
    "    \n",
    "    if ret == False:\n",
    "        continue\n",
    "        \n",
    "    gray_frame = cv2.cvtColor(frame,cv2.COLOR_BGR2GRAY)\n",
    "    \n",
    "    faces = face_cascade.detectMultiScale(frame,1.3,5)\n",
    "    faces = sorted(faces,key=lambda f:f[2]*f[3])\n",
    "    \n",
    "    for face in faces[-1:]:\n",
    "        x,y,w,h = face\n",
    "        cv2.rectangle(frame,(x,y),(x+w,y+h),(0,255,255),2)\n",
    "        \n",
    "        #extract or crop out the required face : region of interest\n",
    "        offset = 10\n",
    "        face_section = frame[y-offset:y+h+offset,x-offset:x+h+offset]\n",
    "        face_section = cv2.resize(face_section,(100,100))\n",
    "        \n",
    "        skip += 1\n",
    "        if skip%10 == 0:\n",
    "            face_data.append(face_section)\n",
    "            print(len(face_data))\n",
    "        \n",
    "    cv2.imshow(\"Frame\",frame)\n",
    "    cv2.imshow(\"Face Section\",face_section)\n",
    "    \n",
    "    key_pressed = cv2.waitKey(1) & 0xFF\n",
    "    if key_pressed == 13:\n",
    "        break\n",
    "        \n",
    "#convert our face list array into a numpy array\n",
    "face_data = np.asarray(face_data)\n",
    "face_data = face_data.reshape((face_data.shape[0],-1))\n",
    "print(face_data.shape)\n",
    "\n",
    "#save this data into file system\n",
    "np.save(dataset_path+file_name+'.npy',face_data)\n",
    "print(\"Data Successfully save at \"+dataset_path+file_name+'.npy')\n",
    "        \n",
    "cap.release()\n",
    "cv2.destroyAllWindows()"
   ]
  },
  {
   "cell_type": "code",
   "execution_count": null,
   "id": "67f4faa9-fe45-4587-8706-0f735f9e86a4",
   "metadata": {},
   "outputs": [],
   "source": [
    "np.load(\"./data/praveen.npy\")"
   ]
  },
  {
   "cell_type": "code",
   "execution_count": null,
   "id": "8b38f40d-2000-42f1-9ee2-ce40b5f3f3bd",
   "metadata": {},
   "outputs": [],
   "source": []
  }
 ],
 "metadata": {
  "kernelspec": {
   "display_name": "Python 3 (ipykernel)",
   "language": "python",
   "name": "python3"
  },
  "language_info": {
   "codemirror_mode": {
    "name": "ipython",
    "version": 3
   },
   "file_extension": ".py",
   "mimetype": "text/x-python",
   "name": "python",
   "nbconvert_exporter": "python",
   "pygments_lexer": "ipython3",
   "version": "3.8.3"
  }
 },
 "nbformat": 4,
 "nbformat_minor": 5
}
